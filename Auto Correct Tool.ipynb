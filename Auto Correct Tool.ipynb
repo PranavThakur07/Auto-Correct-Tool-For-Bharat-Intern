{
 "cells": [
  {
   "cell_type": "code",
   "execution_count": 1,
   "id": "a3af12d1",
   "metadata": {},
   "outputs": [
    {
     "name": "stdout",
     "output_type": "stream",
     "text": [
      "Enter the word=rools royce\n",
      "Did you mean 'rolls royce'?\n"
     ]
    }
   ],
   "source": [
    "from difflib import get_close_matches\n",
    "\n",
    "def correct_or_suggest_word(input_word, word_list):\n",
    "    closest_matches = get_close_matches(input_word, word_list)\n",
    "    \n",
    "    if closest_matches:\n",
    "        return closest_matches[0]  # Return the closest match\n",
    "    else:\n",
    "        return None  # No close match found\n",
    "\n",
    "# Sample list of luxurious car companies\n",
    "word_list = [\"mercedes\", \"porsche\", \"mustang\", \"bugatti\", \"rolls royce\",\"ferrari\",\"lamborghini\",\"mclaren\",\"jaguar\"]\n",
    "\n",
    "# Input word to be corrected or suggested\n",
    "input_word =input(\"Enter the word=\")\n",
    "\n",
    "# Correct or suggest the nearest word\n",
    "corrected_word = correct_or_suggest_word(input_word, word_list)\n",
    "\n",
    "if corrected_word:\n",
    "    print(f\"Did you mean '{corrected_word}'?\")\n",
    "else:\n",
    "    print(\"No similar word found.\")\n"
   ]
  },
  {
   "cell_type": "code",
   "execution_count": null,
   "id": "21b48f98",
   "metadata": {},
   "outputs": [],
   "source": []
  }
 ],
 "metadata": {
  "kernelspec": {
   "display_name": "Python 3 (ipykernel)",
   "language": "python",
   "name": "python3"
  },
  "language_info": {
   "codemirror_mode": {
    "name": "ipython",
    "version": 3
   },
   "file_extension": ".py",
   "mimetype": "text/x-python",
   "name": "python",
   "nbconvert_exporter": "python",
   "pygments_lexer": "ipython3",
   "version": "3.10.10"
  }
 },
 "nbformat": 4,
 "nbformat_minor": 5
}
